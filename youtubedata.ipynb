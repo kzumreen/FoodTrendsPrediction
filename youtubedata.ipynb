{
 "cells": [
  {
   "cell_type": "markdown",
   "id": "cd63fe96",
   "metadata": {},
   "source": [
    "Youtube Data EDA"
   ]
  },
  {
   "cell_type": "code",
   "execution_count": 3,
   "id": "b0982cdc",
   "metadata": {},
   "outputs": [],
   "source": [
    "import pandas as pd\n",
    "import numpy as np\n",
    "import matplotlib.pyplot as plt\n",
    "import seaborn as sns\n",
    "%matplotlib inline"
   ]
  },
  {
   "cell_type": "code",
   "execution_count": 4,
   "id": "e4e13460",
   "metadata": {},
   "outputs": [
    {
     "name": "stdout",
     "output_type": "stream",
     "text": [
      "Data loaded successfully from: youtube_data_all_trends_aggregated.csv\n",
      "Total aggregated daily records: 1500\n"
     ]
    }
   ],
   "source": [
    "pd.set_option('display.max_columns', None)\n",
    "pd.set_option('display.width', 1000)\n",
    "\n",
    "FILE_PATH = 'youtube_data_all_trends_aggregated.csv'\n",
    "df = pd.read_csv(FILE_PATH)\n",
    "\n",
    "print(f\"Data loaded successfully from: {FILE_PATH}\")\n",
    "print(f\"Total aggregated daily records: {len(df)}\")\n"
   ]
  },
  {
   "cell_type": "code",
   "execution_count": 7,
   "id": "a95c6b36",
   "metadata": {},
   "outputs": [
    {
     "name": "stdout",
     "output_type": "stream",
     "text": [
      "\n",
      "--- DataFrame Info (Aggregated Data) ---\n",
      "<class 'pandas.core.frame.DataFrame'>\n",
      "RangeIndex: 1500 entries, 0 to 1499\n",
      "Data columns (total 17 columns):\n",
      " #   Column            Non-Null Count  Dtype  \n",
      "---  ------            --------------  -----  \n",
      " 0   video_id          1500 non-null   object \n",
      " 1   title             1500 non-null   object \n",
      " 2   description       762 non-null    object \n",
      " 3   tags              418 non-null    object \n",
      " 4   Date              1500 non-null   object \n",
      " 5   view_count        1500 non-null   int64  \n",
      " 6   like_count        1500 non-null   int64  \n",
      " 7   comment_count     1500 non-null   int64  \n",
      " 8   duration_iso      1500 non-null   object \n",
      " 9   scrape_date       1500 non-null   object \n",
      " 10  search_query      1500 non-null   object \n",
      " 11  duration_seconds  1500 non-null   float64\n",
      " 12  engagement_rate   1500 non-null   float64\n",
      " 13  age_days          1500 non-null   float64\n",
      " 14  video_type        1500 non-null   object \n",
      " 15  title_length      1500 non-null   int64  \n",
      " 16  Trend_ID          1500 non-null   object \n",
      "dtypes: float64(3), int64(4), object(10)\n",
      "memory usage: 199.3+ KB\n",
      "\n",
      "'Date' column converted to datetime.\n",
      "video_id                    object\n",
      "title                       object\n",
      "description                 object\n",
      "tags                        object\n",
      "Date                datetime64[ns]\n",
      "view_count                   int64\n",
      "like_count                   int64\n",
      "comment_count                int64\n",
      "duration_iso                object\n",
      "scrape_date                 object\n",
      "search_query                object\n",
      "duration_seconds           float64\n",
      "engagement_rate            float64\n",
      "age_days                   float64\n",
      "video_type                  object\n",
      "title_length                 int64\n",
      "Trend_ID                    object\n",
      "dtype: object\n"
     ]
    }
   ],
   "source": [
    "print(\"\\n--- DataFrame Info (Aggregated Data) ---\")\n",
    "df.info()\n",
    "\n",
    "# Convert the 'Date' column to datetime objects\n",
    "# This step is critical for time-series plotting\n",
    "df['Date'] = pd.to_datetime(df['Date'])\n",
    "\n",
    "print(\"\\n'Date' column converted to datetime.\")\n",
    "print(df.dtypes)"
   ]
  },
  {
   "cell_type": "code",
   "execution_count": 8,
   "id": "5ac38ce8",
   "metadata": {},
   "outputs": [
    {
     "name": "stdout",
     "output_type": "stream",
     "text": [
      "--- Summary Statistics for Aggregated Metrics ---\n",
      "                   count                        mean                  min                  25%                  50%                  75%                  max              std\n",
      "Date                1500  2024-08-07 03:05:16.800000  2018-05-23 00:00:00  2024-04-12 06:00:00  2025-03-15 00:00:00  2025-07-26 00:00:00  2025-10-15 00:00:00              NaN\n",
      "view_count        1500.0              4320246.079333                488.0             27521.25             411402.5           3331473.75          314433904.0  14280583.350093\n",
      "like_count        1500.0                  104320.046                  0.0               431.75               7528.5             76352.25            4743569.0    300120.907756\n",
      "comment_count     1500.0                  686.497333                  0.0                 11.0                 90.0               492.25              32973.0      2109.787479\n",
      "duration_seconds  1500.0                   51.134667                  6.0                 26.0                 46.0                 60.0                239.0        38.729806\n",
      "engagement_rate   1500.0                     0.02822                  0.0             0.014165             0.023617              0.03785             0.288603         0.021317\n",
      "age_days          1500.0                  434.793567             0.803024            82.191829           214.787452           551.514135          2703.028043       511.537073\n",
      "title_length      1500.0                   53.680667                  6.0                 33.0                 49.0                 73.0                100.0        25.036172\n",
      "\n",
      "--- Unique Food Trends (Trend_ID) ---\n",
      "['feta-pasta' 'matcha' 'dubai-chocolate']\n",
      "Total unique trends: 3\n"
     ]
    }
   ],
   "source": [
    "# Summary statistics for numerical columns\n",
    "print(\"--- Summary Statistics for Aggregated Metrics ---\")\n",
    "# The statistics now represent daily sums/averages (e.g., the max 'daily_video_count' is the peak day).\n",
    "print(df.describe().T)\n",
    "\n",
    "# Check the unique trends to ensure all four are present and standardized\n",
    "print(\"\\n--- Unique Food Trends (Trend_ID) ---\")\n",
    "print(df['Trend_ID'].unique())\n",
    "print(f\"Total unique trends: {df['Trend_ID'].nunique()}\")"
   ]
  },
  {
   "cell_type": "code",
   "execution_count": 9,
   "id": "5055f315",
   "metadata": {},
   "outputs": [
    {
     "ename": "ValueError",
     "evalue": "Could not interpret value `daily_video_count` for `y`. An entry with this name does not appear in `data`.",
     "output_type": "error",
     "traceback": [
      "\u001b[31m---------------------------------------------------------------------------\u001b[39m",
      "\u001b[31mValueError\u001b[39m                                Traceback (most recent call last)",
      "\u001b[36mCell\u001b[39m\u001b[36m \u001b[39m\u001b[32mIn[9]\u001b[39m\u001b[32m, line 7\u001b[39m\n\u001b[32m      3\u001b[39m plt.figure(figsize=(\u001b[32m15\u001b[39m, \u001b[32m6\u001b[39m))\n\u001b[32m      5\u001b[39m \u001b[38;5;66;03m# Plot the daily video count for each trend\u001b[39;00m\n\u001b[32m      6\u001b[39m \u001b[38;5;66;03m# This shows the velocity of content creation for each trend over time.\u001b[39;00m\n\u001b[32m----> \u001b[39m\u001b[32m7\u001b[39m \u001b[43msns\u001b[49m\u001b[43m.\u001b[49m\u001b[43mlineplot\u001b[49m\u001b[43m(\u001b[49m\u001b[43mdata\u001b[49m\u001b[43m=\u001b[49m\u001b[43mdf\u001b[49m\u001b[43m,\u001b[49m\u001b[43m \u001b[49m\u001b[43mx\u001b[49m\u001b[43m=\u001b[49m\u001b[33;43m'\u001b[39;49m\u001b[33;43mDate\u001b[39;49m\u001b[33;43m'\u001b[39;49m\u001b[43m,\u001b[49m\u001b[43m \u001b[49m\u001b[43my\u001b[49m\u001b[43m=\u001b[49m\u001b[33;43m'\u001b[39;49m\u001b[33;43mdaily_video_count\u001b[39;49m\u001b[33;43m'\u001b[39;49m\u001b[43m,\u001b[49m\u001b[43m \u001b[49m\u001b[43mhue\u001b[49m\u001b[43m=\u001b[49m\u001b[33;43m'\u001b[39;49m\u001b[33;43mTrend_ID\u001b[39;49m\u001b[33;43m'\u001b[39;49m\u001b[43m,\u001b[49m\u001b[43m \u001b[49m\u001b[43mlinewidth\u001b[49m\u001b[43m=\u001b[49m\u001b[32;43m2.5\u001b[39;49m\u001b[43m)\u001b[49m\n\u001b[32m      9\u001b[39m plt.title(\u001b[33m'\u001b[39m\u001b[33mDaily Video Count over Time by Food Trend (YouTube Volume)\u001b[39m\u001b[33m'\u001b[39m, fontsize=\u001b[32m16\u001b[39m)\n\u001b[32m     10\u001b[39m plt.xlabel(\u001b[33m'\u001b[39m\u001b[33mDate of Video Publication\u001b[39m\u001b[33m'\u001b[39m, fontsize=\u001b[32m12\u001b[39m)\n",
      "\u001b[36mFile \u001b[39m\u001b[32mc:\\Users\\zumre\\AppData\\Local\\Programs\\Python\\Python314\\Lib\\site-packages\\seaborn\\relational.py:485\u001b[39m, in \u001b[36mlineplot\u001b[39m\u001b[34m(data, x, y, hue, size, style, units, weights, palette, hue_order, hue_norm, sizes, size_order, size_norm, dashes, markers, style_order, estimator, errorbar, n_boot, seed, orient, sort, err_style, err_kws, legend, ci, ax, **kwargs)\u001b[39m\n\u001b[32m    471\u001b[39m \u001b[38;5;28;01mdef\u001b[39;00m\u001b[38;5;250m \u001b[39m\u001b[34mlineplot\u001b[39m(\n\u001b[32m    472\u001b[39m     data=\u001b[38;5;28;01mNone\u001b[39;00m, *,\n\u001b[32m    473\u001b[39m     x=\u001b[38;5;28;01mNone\u001b[39;00m, y=\u001b[38;5;28;01mNone\u001b[39;00m, hue=\u001b[38;5;28;01mNone\u001b[39;00m, size=\u001b[38;5;28;01mNone\u001b[39;00m, style=\u001b[38;5;28;01mNone\u001b[39;00m, units=\u001b[38;5;28;01mNone\u001b[39;00m, weights=\u001b[38;5;28;01mNone\u001b[39;00m,\n\u001b[32m   (...)\u001b[39m\u001b[32m    481\u001b[39m \n\u001b[32m    482\u001b[39m     \u001b[38;5;66;03m# Handle deprecation of ci parameter\u001b[39;00m\n\u001b[32m    483\u001b[39m     errorbar = _deprecate_ci(errorbar, ci)\n\u001b[32m--> \u001b[39m\u001b[32m485\u001b[39m     p = \u001b[43m_LinePlotter\u001b[49m\u001b[43m(\u001b[49m\n\u001b[32m    486\u001b[39m \u001b[43m        \u001b[49m\u001b[43mdata\u001b[49m\u001b[43m=\u001b[49m\u001b[43mdata\u001b[49m\u001b[43m,\u001b[49m\n\u001b[32m    487\u001b[39m \u001b[43m        \u001b[49m\u001b[43mvariables\u001b[49m\u001b[43m=\u001b[49m\u001b[38;5;28;43mdict\u001b[39;49m\u001b[43m(\u001b[49m\n\u001b[32m    488\u001b[39m \u001b[43m            \u001b[49m\u001b[43mx\u001b[49m\u001b[43m=\u001b[49m\u001b[43mx\u001b[49m\u001b[43m,\u001b[49m\u001b[43m \u001b[49m\u001b[43my\u001b[49m\u001b[43m=\u001b[49m\u001b[43my\u001b[49m\u001b[43m,\u001b[49m\u001b[43m \u001b[49m\u001b[43mhue\u001b[49m\u001b[43m=\u001b[49m\u001b[43mhue\u001b[49m\u001b[43m,\u001b[49m\u001b[43m \u001b[49m\u001b[43msize\u001b[49m\u001b[43m=\u001b[49m\u001b[43msize\u001b[49m\u001b[43m,\u001b[49m\u001b[43m \u001b[49m\u001b[43mstyle\u001b[49m\u001b[43m=\u001b[49m\u001b[43mstyle\u001b[49m\u001b[43m,\u001b[49m\u001b[43m \u001b[49m\u001b[43munits\u001b[49m\u001b[43m=\u001b[49m\u001b[43munits\u001b[49m\u001b[43m,\u001b[49m\u001b[43m \u001b[49m\u001b[43mweight\u001b[49m\u001b[43m=\u001b[49m\u001b[43mweights\u001b[49m\n\u001b[32m    489\u001b[39m \u001b[43m        \u001b[49m\u001b[43m)\u001b[49m\u001b[43m,\u001b[49m\n\u001b[32m    490\u001b[39m \u001b[43m        \u001b[49m\u001b[43mestimator\u001b[49m\u001b[43m=\u001b[49m\u001b[43mestimator\u001b[49m\u001b[43m,\u001b[49m\u001b[43m \u001b[49m\u001b[43mn_boot\u001b[49m\u001b[43m=\u001b[49m\u001b[43mn_boot\u001b[49m\u001b[43m,\u001b[49m\u001b[43m \u001b[49m\u001b[43mseed\u001b[49m\u001b[43m=\u001b[49m\u001b[43mseed\u001b[49m\u001b[43m,\u001b[49m\u001b[43m \u001b[49m\u001b[43merrorbar\u001b[49m\u001b[43m=\u001b[49m\u001b[43merrorbar\u001b[49m\u001b[43m,\u001b[49m\n\u001b[32m    491\u001b[39m \u001b[43m        \u001b[49m\u001b[43msort\u001b[49m\u001b[43m=\u001b[49m\u001b[43msort\u001b[49m\u001b[43m,\u001b[49m\u001b[43m \u001b[49m\u001b[43morient\u001b[49m\u001b[43m=\u001b[49m\u001b[43morient\u001b[49m\u001b[43m,\u001b[49m\u001b[43m \u001b[49m\u001b[43merr_style\u001b[49m\u001b[43m=\u001b[49m\u001b[43merr_style\u001b[49m\u001b[43m,\u001b[49m\u001b[43m \u001b[49m\u001b[43merr_kws\u001b[49m\u001b[43m=\u001b[49m\u001b[43merr_kws\u001b[49m\u001b[43m,\u001b[49m\n\u001b[32m    492\u001b[39m \u001b[43m        \u001b[49m\u001b[43mlegend\u001b[49m\u001b[43m=\u001b[49m\u001b[43mlegend\u001b[49m\u001b[43m,\u001b[49m\n\u001b[32m    493\u001b[39m \u001b[43m    \u001b[49m\u001b[43m)\u001b[49m\n\u001b[32m    495\u001b[39m     p.map_hue(palette=palette, order=hue_order, norm=hue_norm)\n\u001b[32m    496\u001b[39m     p.map_size(sizes=sizes, order=size_order, norm=size_norm)\n",
      "\u001b[36mFile \u001b[39m\u001b[32mc:\\Users\\zumre\\AppData\\Local\\Programs\\Python\\Python314\\Lib\\site-packages\\seaborn\\relational.py:216\u001b[39m, in \u001b[36m_LinePlotter.__init__\u001b[39m\u001b[34m(self, data, variables, estimator, n_boot, seed, errorbar, sort, orient, err_style, err_kws, legend)\u001b[39m\n\u001b[32m    202\u001b[39m \u001b[38;5;28;01mdef\u001b[39;00m\u001b[38;5;250m \u001b[39m\u001b[34m__init__\u001b[39m(\n\u001b[32m    203\u001b[39m     \u001b[38;5;28mself\u001b[39m, *,\n\u001b[32m    204\u001b[39m     data=\u001b[38;5;28;01mNone\u001b[39;00m, variables={},\n\u001b[32m   (...)\u001b[39m\u001b[32m    210\u001b[39m     \u001b[38;5;66;03m# the kind of plot to draw, but for the time being we need to set\u001b[39;00m\n\u001b[32m    211\u001b[39m     \u001b[38;5;66;03m# this information so the SizeMapping can use it\u001b[39;00m\n\u001b[32m    212\u001b[39m     \u001b[38;5;28mself\u001b[39m._default_size_range = (\n\u001b[32m    213\u001b[39m         np.r_[\u001b[32m.5\u001b[39m, \u001b[32m2\u001b[39m] * mpl.rcParams[\u001b[33m\"\u001b[39m\u001b[33mlines.linewidth\u001b[39m\u001b[33m\"\u001b[39m]\n\u001b[32m    214\u001b[39m     )\n\u001b[32m--> \u001b[39m\u001b[32m216\u001b[39m     \u001b[38;5;28;43msuper\u001b[39;49m\u001b[43m(\u001b[49m\u001b[43m)\u001b[49m\u001b[43m.\u001b[49m\u001b[34;43m__init__\u001b[39;49m\u001b[43m(\u001b[49m\u001b[43mdata\u001b[49m\u001b[43m=\u001b[49m\u001b[43mdata\u001b[49m\u001b[43m,\u001b[49m\u001b[43m \u001b[49m\u001b[43mvariables\u001b[49m\u001b[43m=\u001b[49m\u001b[43mvariables\u001b[49m\u001b[43m)\u001b[49m\n\u001b[32m    218\u001b[39m     \u001b[38;5;28mself\u001b[39m.estimator = estimator\n\u001b[32m    219\u001b[39m     \u001b[38;5;28mself\u001b[39m.errorbar = errorbar\n",
      "\u001b[36mFile \u001b[39m\u001b[32mc:\\Users\\zumre\\AppData\\Local\\Programs\\Python\\Python314\\Lib\\site-packages\\seaborn\\_base.py:634\u001b[39m, in \u001b[36mVectorPlotter.__init__\u001b[39m\u001b[34m(self, data, variables)\u001b[39m\n\u001b[32m    629\u001b[39m \u001b[38;5;66;03m# var_ordered is relevant only for categorical axis variables, and may\u001b[39;00m\n\u001b[32m    630\u001b[39m \u001b[38;5;66;03m# be better handled by an internal axis information object that tracks\u001b[39;00m\n\u001b[32m    631\u001b[39m \u001b[38;5;66;03m# such information and is set up by the scale_* methods. The analogous\u001b[39;00m\n\u001b[32m    632\u001b[39m \u001b[38;5;66;03m# information for numeric axes would be information about log scales.\u001b[39;00m\n\u001b[32m    633\u001b[39m \u001b[38;5;28mself\u001b[39m._var_ordered = {\u001b[33m\"\u001b[39m\u001b[33mx\u001b[39m\u001b[33m\"\u001b[39m: \u001b[38;5;28;01mFalse\u001b[39;00m, \u001b[33m\"\u001b[39m\u001b[33my\u001b[39m\u001b[33m\"\u001b[39m: \u001b[38;5;28;01mFalse\u001b[39;00m}  \u001b[38;5;66;03m# alt., used DefaultDict\u001b[39;00m\n\u001b[32m--> \u001b[39m\u001b[32m634\u001b[39m \u001b[38;5;28;43mself\u001b[39;49m\u001b[43m.\u001b[49m\u001b[43massign_variables\u001b[49m\u001b[43m(\u001b[49m\u001b[43mdata\u001b[49m\u001b[43m,\u001b[49m\u001b[43m \u001b[49m\u001b[43mvariables\u001b[49m\u001b[43m)\u001b[49m\n\u001b[32m    636\u001b[39m \u001b[38;5;66;03m# TODO Lots of tests assume that these are called to initialize the\u001b[39;00m\n\u001b[32m    637\u001b[39m \u001b[38;5;66;03m# mappings to default values on class initialization. I'd prefer to\u001b[39;00m\n\u001b[32m    638\u001b[39m \u001b[38;5;66;03m# move away from that and only have a mapping when explicitly called.\u001b[39;00m\n\u001b[32m    639\u001b[39m \u001b[38;5;28;01mfor\u001b[39;00m var \u001b[38;5;129;01min\u001b[39;00m [\u001b[33m\"\u001b[39m\u001b[33mhue\u001b[39m\u001b[33m\"\u001b[39m, \u001b[33m\"\u001b[39m\u001b[33msize\u001b[39m\u001b[33m\"\u001b[39m, \u001b[33m\"\u001b[39m\u001b[33mstyle\u001b[39m\u001b[33m\"\u001b[39m]:\n",
      "\u001b[36mFile \u001b[39m\u001b[32mc:\\Users\\zumre\\AppData\\Local\\Programs\\Python\\Python314\\Lib\\site-packages\\seaborn\\_base.py:679\u001b[39m, in \u001b[36mVectorPlotter.assign_variables\u001b[39m\u001b[34m(self, data, variables)\u001b[39m\n\u001b[32m    674\u001b[39m \u001b[38;5;28;01melse\u001b[39;00m:\n\u001b[32m    675\u001b[39m     \u001b[38;5;66;03m# When dealing with long-form input, use the newer PlotData\u001b[39;00m\n\u001b[32m    676\u001b[39m     \u001b[38;5;66;03m# object (internal but introduced for the objects interface)\u001b[39;00m\n\u001b[32m    677\u001b[39m     \u001b[38;5;66;03m# to centralize / standardize data consumption logic.\u001b[39;00m\n\u001b[32m    678\u001b[39m     \u001b[38;5;28mself\u001b[39m.input_format = \u001b[33m\"\u001b[39m\u001b[33mlong\u001b[39m\u001b[33m\"\u001b[39m\n\u001b[32m--> \u001b[39m\u001b[32m679\u001b[39m     plot_data = \u001b[43mPlotData\u001b[49m\u001b[43m(\u001b[49m\u001b[43mdata\u001b[49m\u001b[43m,\u001b[49m\u001b[43m \u001b[49m\u001b[43mvariables\u001b[49m\u001b[43m)\u001b[49m\n\u001b[32m    680\u001b[39m     frame = plot_data.frame\n\u001b[32m    681\u001b[39m     names = plot_data.names\n",
      "\u001b[36mFile \u001b[39m\u001b[32mc:\\Users\\zumre\\AppData\\Local\\Programs\\Python\\Python314\\Lib\\site-packages\\seaborn\\_core\\data.py:58\u001b[39m, in \u001b[36mPlotData.__init__\u001b[39m\u001b[34m(self, data, variables)\u001b[39m\n\u001b[32m     51\u001b[39m \u001b[38;5;28;01mdef\u001b[39;00m\u001b[38;5;250m \u001b[39m\u001b[34m__init__\u001b[39m(\n\u001b[32m     52\u001b[39m     \u001b[38;5;28mself\u001b[39m,\n\u001b[32m     53\u001b[39m     data: DataSource,\n\u001b[32m     54\u001b[39m     variables: \u001b[38;5;28mdict\u001b[39m[\u001b[38;5;28mstr\u001b[39m, VariableSpec],\n\u001b[32m     55\u001b[39m ):\n\u001b[32m     57\u001b[39m     data = handle_data_source(data)\n\u001b[32m---> \u001b[39m\u001b[32m58\u001b[39m     frame, names, ids = \u001b[38;5;28;43mself\u001b[39;49m\u001b[43m.\u001b[49m\u001b[43m_assign_variables\u001b[49m\u001b[43m(\u001b[49m\u001b[43mdata\u001b[49m\u001b[43m,\u001b[49m\u001b[43m \u001b[49m\u001b[43mvariables\u001b[49m\u001b[43m)\u001b[49m\n\u001b[32m     60\u001b[39m     \u001b[38;5;28mself\u001b[39m.frame = frame\n\u001b[32m     61\u001b[39m     \u001b[38;5;28mself\u001b[39m.names = names\n",
      "\u001b[36mFile \u001b[39m\u001b[32mc:\\Users\\zumre\\AppData\\Local\\Programs\\Python\\Python314\\Lib\\site-packages\\seaborn\\_core\\data.py:232\u001b[39m, in \u001b[36mPlotData._assign_variables\u001b[39m\u001b[34m(self, data, variables)\u001b[39m\n\u001b[32m    230\u001b[39m     \u001b[38;5;28;01melse\u001b[39;00m:\n\u001b[32m    231\u001b[39m         err += \u001b[33m\"\u001b[39m\u001b[33mAn entry with this name does not appear in `data`.\u001b[39m\u001b[33m\"\u001b[39m\n\u001b[32m--> \u001b[39m\u001b[32m232\u001b[39m     \u001b[38;5;28;01mraise\u001b[39;00m \u001b[38;5;167;01mValueError\u001b[39;00m(err)\n\u001b[32m    234\u001b[39m \u001b[38;5;28;01melse\u001b[39;00m:\n\u001b[32m    235\u001b[39m \n\u001b[32m    236\u001b[39m     \u001b[38;5;66;03m# Otherwise, assume the value somehow represents data\u001b[39;00m\n\u001b[32m    237\u001b[39m \n\u001b[32m    238\u001b[39m     \u001b[38;5;66;03m# Ignore empty data structures\u001b[39;00m\n\u001b[32m    239\u001b[39m     \u001b[38;5;28;01mif\u001b[39;00m \u001b[38;5;28misinstance\u001b[39m(val, Sized) \u001b[38;5;129;01mand\u001b[39;00m \u001b[38;5;28mlen\u001b[39m(val) == \u001b[32m0\u001b[39m:\n",
      "\u001b[31mValueError\u001b[39m: Could not interpret value `daily_video_count` for `y`. An entry with this name does not appear in `data`."
     ]
    },
    {
     "data": {
      "text/plain": [
       "<Figure size 1500x600 with 0 Axes>"
      ]
     },
     "metadata": {},
     "output_type": "display_data"
    }
   ],
   "source": [
    "# Set a visual style\n",
    "sns.set_style(\"whitegrid\")\n",
    "plt.figure(figsize=(15, 6))\n",
    "\n",
    "# Plot the daily video count for each trend\n",
    "# This shows the velocity of content creation for each trend over time.\n",
    "sns.lineplot(data=df, x='Date', y='daily_video_count', hue='Trend_ID', linewidth=2.5)\n",
    "\n",
    "plt.title('Daily Video Count over Time by Food Trend (YouTube Volume)', fontsize=16)\n",
    "plt.xlabel('Date of Video Publication', fontsize=12)\n",
    "plt.ylabel('Daily Video Count (Published per Day)', fontsize=12)\n",
    "plt.legend(title='Trend ID')\n",
    "plt.xticks(rotation=45)\n",
    "plt.grid(axis='y', alpha=0.5)\n",
    "plt.tight_layout()\n",
    "plt.show()"
   ]
  }
 ],
 "metadata": {
  "kernelspec": {
   "display_name": "Python 3",
   "language": "python",
   "name": "python3"
  },
  "language_info": {
   "codemirror_mode": {
    "name": "ipython",
    "version": 3
   },
   "file_extension": ".py",
   "mimetype": "text/x-python",
   "name": "python",
   "nbconvert_exporter": "python",
   "pygments_lexer": "ipython3",
   "version": "3.14.0"
  }
 },
 "nbformat": 4,
 "nbformat_minor": 5
}
